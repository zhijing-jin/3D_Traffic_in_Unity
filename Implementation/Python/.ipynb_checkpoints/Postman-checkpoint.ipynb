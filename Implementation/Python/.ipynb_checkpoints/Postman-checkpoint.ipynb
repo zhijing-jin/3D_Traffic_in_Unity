{
 "cells": [
  {
   "cell_type": "code",
   "execution_count": 14,
   "metadata": {},
   "outputs": [
    {
     "data": {
      "text/plain": [
       "array([  0.,  10.,  20.,  30.,  40.,  50.,  60.,  70.,  80.,  90.])"
      ]
     },
     "execution_count": 14,
     "metadata": {},
     "output_type": "execute_result"
    }
   ],
   "source": [
    "import numpy as np\n",
    "a = np.linspace(0,90,10)\n",
    "a\n"
   ]
  },
  {
   "cell_type": "code",
   "execution_count": 22,
   "metadata": {},
   "outputs": [
    {
     "data": {
      "text/plain": [
       "[0.0, 10.0, 20.0, 30.0, 40.0, 50.0, 60.0, 70.0, 80.0, 90.0]"
      ]
     },
     "execution_count": 22,
     "metadata": {},
     "output_type": "execute_result"
    }
   ],
   "source": [
    "a = a.tolist()\n",
    "for i in zip(a[:-1], a):\n",
    "    print(i)\n"
   ]
  },
  {
   "cell_type": "code",
   "execution_count": 21,
   "metadata": {},
   "outputs": [
    {
     "data": {
      "text/plain": [
       "array([[  0.        ,   0.        ,   0.        ],\n",
       "       [ -0.54402111,  10.        ,   1.        ],\n",
       "       [  0.91294525,  20.        ,   2.        ],\n",
       "       [ -0.98803162,  30.        ,   3.        ],\n",
       "       [  0.74511316,  40.        ,   4.        ],\n",
       "       [ -0.26237485,  50.        ,   5.        ],\n",
       "       [ -0.30481062,  60.        ,   6.        ],\n",
       "       [  0.77389068,  70.        ,   7.        ],\n",
       "       [ -0.99388865,  80.        ,   8.        ],\n",
       "       [  0.89399666,  90.        ,   9.        ]])"
      ]
     },
     "execution_count": 21,
     "metadata": {},
     "output_type": "execute_result"
    }
   ],
   "source": [
    "np.column_stack((np.sin(a), a, range(10)))"
   ]
  }
 ],
 "metadata": {
  "kernelspec": {
   "display_name": "Python 3",
   "language": "python",
   "name": "python3"
  },
  "language_info": {
   "codemirror_mode": {
    "name": "ipython",
    "version": 3
   },
   "file_extension": ".py",
   "mimetype": "text/x-python",
   "name": "python",
   "nbconvert_exporter": "python",
   "pygments_lexer": "ipython3",
   "version": "3.6.1"
  }
 },
 "nbformat": 4,
 "nbformat_minor": 2
}
